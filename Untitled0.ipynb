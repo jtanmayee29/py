{
  "nbformat": 4,
  "nbformat_minor": 0,
  "metadata": {
    "colab": {
      "provenance": []
    },
    "kernelspec": {
      "name": "python3",
      "display_name": "Python 3"
    },
    "language_info": {
      "name": "python"
    }
  },
  "cells": [
    {
      "cell_type": "code",
      "execution_count": 1,
      "metadata": {
        "colab": {
          "base_uri": "https://localhost:8080/"
        },
        "id": "uoac-s5Io4no",
        "outputId": "ab026afe-0d45-4ee0-bc30-67a751b612ca"
      },
      "outputs": [
        {
          "output_type": "stream",
          "name": "stdout",
          "text": [
            "Enter the Union of E and N (E ∪ N):\n",
            "Enter elements separated by spaces: 2 3 4 5 6 7\n",
            "Enter the Intersection of E and N (E ∩ N):\n",
            "Enter elements separated by spaces: 5 6 7\n",
            "Enter the Difference of E and N (E - N):\n",
            "Enter elements separated by spaces: 1 2 3 4\n",
            "Enter the Symmetric Difference of E and N (E △ N):\n",
            "Enter elements separated by spaces: 2 3 2 2 \n",
            "\n",
            "Set E: {1, 2, 3, 4, 5, 6, 7}\n",
            "Set N: set()\n",
            "\n",
            "Verification:\n",
            "Union (E ∪ N): {1, 2, 3, 4, 5, 6, 7}\n",
            "Intersection (E ∩ N): set()\n",
            "Difference (E - N): {1, 2, 3, 4, 5, 6, 7}\n",
            "Symmetric Difference (E △ N): {1, 2, 3, 4, 5, 6, 7}\n"
          ]
        }
      ],
      "source": [
        "\n",
        "def input_set(prompt):\n",
        "    print(prompt)\n",
        "    return set(map(int, input(\"Enter elements separated by spaces: \").split()))\n",
        "\n",
        "E_union_N = input_set(\"Enter the Union of E and N (E ∪ N):\")\n",
        "E_intersection_N = input_set(\"Enter the Intersection of E and N (E ∩ N):\")\n",
        "E_difference_N = input_set(\"Enter the Difference of E and N (E - N):\")\n",
        "E_symmetric_difference_N = input_set(\"Enter the Symmetric Difference of E and N (E △ N):\")\n",
        "\n",
        "E = E_intersection_N.union(E_difference_N)\n",
        "N = E_union_N - E\n",
        "print(\"\\nSet E:\", E)\n",
        "print(\"Set N:\", N)\n",
        "print(\"\\nVerification:\")\n",
        "print(\"Union (E ∪ N):\", E.union(N))\n",
        "print(\"Intersection (E ∩ N):\", E.intersection(N))\n",
        "print(\"Difference (E - N):\", E - N)\n",
        "print(\"Symmetric Difference (E △ N):\", E.symmetric_difference(N))\n"
      ]
    }
  ]
}